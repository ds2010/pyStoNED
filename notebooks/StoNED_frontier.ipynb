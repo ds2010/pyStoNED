{
 "cells": [
  {
   "cell_type": "markdown",
   "metadata": {},
   "source": [
    "# Estimating the StoNED frontier"
   ]
  },
  {
   "cell_type": "code",
   "execution_count": 2,
   "metadata": {},
   "outputs": [],
   "source": [
    "# import packages\n",
    "from pystoned import CNLS, StoNED\n",
    "from pystoned.dataset import load_Finnish_electricity_firm\n",
    "from pystoned.constant import CET_MULT, FUN_COST, RTS_VRS, RED_MOM"
   ]
  },
  {
   "cell_type": "code",
   "execution_count": 3,
   "metadata": {},
   "outputs": [],
   "source": [
    "# import Finnish electricity distribution firms data\n",
    "data = load_Finnish_electricity_firm(x_select=['Energy', 'Length', 'Customers'],\n",
    "                                        y_select=['TOTEX'])"
   ]
  },
  {
   "cell_type": "code",
   "execution_count": 4,
   "metadata": {},
   "outputs": [
    {
     "name": "stdout",
     "output_type": "stream",
     "text": [
      "Estimating the multiplicative model remotely with knitro solver.\n"
     ]
    }
   ],
   "source": [
    "# build and optimize the CNLS model\n",
    "model = CNLS.CNLS(data.y, data.x, z=None, cet=CET_MULT, fun=FUN_COST, rts=RTS_VRS)\n",
    "model.optimize('email@address')"
   ]
  },
  {
   "cell_type": "code",
   "execution_count": 5,
   "metadata": {},
   "outputs": [
    {
     "name": "stdout",
     "output_type": "stream",
     "text": [
      "[  1670.3545537    1688.45728912   1581.26766152  18028.67181635\n",
      "    984.97549533   4264.6906593    1396.93180796   3273.06801198\n",
      "   1010.92341241   2789.64378606  29957.40278227 117039.29338564\n",
      "   1734.08161845   2324.5601305   48168.40759681   6204.05913854\n",
      "   1032.76061321   1256.08914423   1778.45400285   5276.95622322\n",
      "   3351.19206342   3285.93435993    364.93489534   7048.33016304\n",
      "   1355.92349898   1987.6510021    1673.57766757  32545.51192731\n",
      "   1140.85313244   2811.25156082   1528.18195722   4193.28799362\n",
      "   4468.17988553   2828.64277926   2622.5590497    4638.01513345\n",
      "   5169.85925217   1781.39344246   1118.29686152   8552.17128331\n",
      "   7013.58290095    893.19029132  24490.03901529   1788.00071264\n",
      "   1903.9700401    1357.18985515   9835.74818697    685.34135697\n",
      "   7097.90300739  15155.67085154   1049.6861015    4202.73452975\n",
      "   1480.71878134   5551.36546696   1571.57766814  14134.4532678\n",
      "   7084.05737251   2140.99484436   2793.43961759   3543.59169176\n",
      "    411.18329957  28385.73731676  10715.90753452   7412.4558533\n",
      "   1482.81526038   1464.07260477   3596.32849455   9835.88129223\n",
      "   3832.36635479   6974.75023344  36203.72646891   3895.2576994\n",
      "  21447.7516105    1147.54889919   2525.59027209   5054.81977283\n",
      "  13845.99167762    771.28673713  13763.17449472   6557.44518651\n",
      "   2479.04438313  16722.11956301   5546.45184531 104662.05074057\n",
      "   6184.4251886     724.55263697    726.09680951    559.41867826\n",
      "   1840.87249614]\n"
     ]
    }
   ],
   "source": [
    "# obtain the StoNED frontier\n",
    "rd = StoNED.StoNED(model)\n",
    "print(rd.get_stoned(RED_MOM))"
   ]
  }
 ],
 "metadata": {
  "interpreter": {
   "hash": "d615cd69d76bbfeb794299333df0c3d566ae9a0a286576ecbdfd9810108dcdf5"
  },
  "kernelspec": {
   "display_name": "Python 3.8.8 64-bit ('base': conda)",
   "name": "python3"
  },
  "language_info": {
   "codemirror_mode": {
    "name": "ipython",
    "version": 3
   },
   "file_extension": ".py",
   "mimetype": "text/x-python",
   "name": "python",
   "nbconvert_exporter": "python",
   "pygments_lexer": "ipython3",
   "version": "3.9.6"
  }
 },
 "nbformat": 4,
 "nbformat_minor": 4
}
